{
 "cells": [
  {
   "cell_type": "markdown",
   "id": "8bc6291c",
   "metadata": {},
   "source": [
    "# Week 3 Exercises"
   ]
  },
  {
   "cell_type": "markdown",
   "id": "9e17b538",
   "metadata": {},
   "source": [
    "## Exercises\n",
    "\n",
    "1. Load and display the image 'dog.jfif'. Save the image in png format.\n",
    "2. *Suggest 2 ways and write codes to display 2 images simultaneously.* You can use any image snapped from your handphone, downloaded from internet or images from weekly materials on MS teams. The 2 images are original color image and its corresponding grayscale image.\n",
    "3. Write codes that performs the following:\n",
    "    * Load the video “img_pexels.mp4” into the Python environment, resize it and display the videos with smaller frames (The frames can be of any size, as long as it is smaller). You can specify an arbitrary frame rate.\n",
    "    * Save it as a separate files: “smaller_img_pexels.avi” or \"smaller_img_pexels.mp4\"\n",
    "4. Enlarge the image \"dog.jfif\" by using different techniques:\n",
    "    1) Linear interpolation\n",
    "   2) Cubic interpolation\n",
    "   3) Nearest neighbor interpolation.\n",
    "\n",
    "Perform profiling on each method. Comment on the **execution times** and **quality of resulting images**."
   ]
  },
  {
   "cell_type": "code",
   "execution_count": null,
   "id": "2fb1be25",
   "metadata": {},
   "outputs": [],
   "source": [
    "import sys\n",
    "# Python 3.7 is required\n",
    "assert sys.version_info >= (3, 7)\n",
    "\n",
    "import cv2 as cv\n",
    "import numpy as np\n",
    "\n",
    "# Make sure that OpenCV optimization is enabled\n",
    "if not cv.useOptimized():\n",
    "    cv.setUseOptimized(True)\n",
    "    \n",
    "cv.useOptimized()"
   ]
  },
  {
   "cell_type": "markdown",
   "id": "2dbe7890",
   "metadata": {},
   "source": [
    "## Question 1"
   ]
  },
  {
   "cell_type": "code",
   "execution_count": null,
   "id": "b634d238",
   "metadata": {},
   "outputs": [],
   "source": [
    "# img is a NumPy array object\n",
    "# Load image\n",
    "img = cv.imread(\"images/dog.jfif\") # color image\n",
    "\n",
    "# Display image\n",
    "cv.imshow(\"color\", img)\n",
    "\n",
    "# Save in png format\n",
    "k = cv.waitKey(0) & 0xFF # waiting for user input\n",
    "if k == ord(\"s\"):\n",
    "    cv.imwrite(\"dog.png\", img)\n",
    "\n",
    "cv.destroyAllWindows()"
   ]
  },
  {
   "cell_type": "markdown",
   "id": "ddca8883",
   "metadata": {},
   "source": [
    "## Question 2"
   ]
  },
  {
   "cell_type": "code",
   "execution_count": null,
   "id": "e539c250",
   "metadata": {},
   "outputs": [],
   "source": [
    "# Two ways display 2 images simultaneously\n",
    "\"\"\"Using Matplotlib and Using OpenCV\"\"\"\n",
    "\n",
    "import matplotlib.pyplot as plt\n",
    "# One original colour image and the grayscale of the image\n",
    "img_grayscale = cv.imread(\"dog.png\", 0) # grayscale image\n",
    "\n",
    "# Create a figure\n",
    "plt.figure(figsize=(10,5))\n",
    "\n",
    "# Display two images\n",
    "plt.subplot(1, 2, 1)\n",
    "plt.imshow(img)\n",
    "plt.title('Dog Image with Colour')\n",
    "plt.axis('off')\n",
    "\n",
    "plt.subplot(1, 2, 2)\n",
    "plt.imshow(img_grayscale, cmap='gray')\n",
    "plt.title('Dog Image with Grayscale')\n",
    "plt.axis('off')\n",
    "\n",
    "# Display images\n",
    "plt.show()"
   ]
  },
  {
   "cell_type": "markdown",
   "id": "de75cf01",
   "metadata": {},
   "source": [
    "## Question 3"
   ]
  },
  {
   "cell_type": "code",
   "execution_count": null,
   "id": "7c04db8b",
   "metadata": {},
   "outputs": [],
   "source": [
    "# Load video\n",
    "cap = cv.VideoCapture(\"video/img_pexels.mp4\") # 2 options; filepath or 0 (cam)\n",
    "\n",
    "if not cap.isOpened():\n",
    "    raise Exception(\"No video file detected\")\n",
    "    exit()\n",
    "\n",
    "# Resize and save video with smaller frame\n",
    "width = int(cap.get(6)) # width\n",
    "height = int(cap.get(4)) # height\n",
    "fourcc = cv.VideoWriter_fourcc(\"M\", \"J\", \"P\", \"G\")\n",
    "fps = 15\n",
    "out = cv.VideoWriter(\"smaller_img_pexels.avi\", fourcc, fps, (width, height))\n",
    "\n",
    "while cap.isOpened():\n",
    "    ret, frame = cap.read() # ret is status, frame is the image\n",
    "\n",
    "    if not ret:\n",
    "        print(\"No frame received\")\n",
    "        break\n",
    "\n",
    "    # Display image\n",
    "    cv.namedWindow(\"frame\", cv.WINDOW_NORMAL)\n",
    "    cv.imshow(\"frame\", frame)\n",
    "\n",
    "    k = cv.waitKey(1) & 0xFF\n",
    "    if k == 27:\n",
    "        break\n",
    "\n",
    "cap.release()\n",
    "out.release()\n",
    "cv.destroyAllWindows()"
   ]
  },
  {
   "cell_type": "markdown",
   "id": "2ce1eb72",
   "metadata": {},
   "source": [
    "## Question 4"
   ]
  },
  {
   "cell_type": "code",
   "execution_count": null,
   "id": "7d7d8522",
   "metadata": {},
   "outputs": [],
   "source": [
    "import time\n",
    "\n",
    "# Load image\n",
    "image = cv.imread(\"images/dog.jfif\")\n",
    "\n",
    "if image is None:\n",
    "    raise Exception(\"Image not found!\")\n",
    "\n",
    "# Enlarge size\n",
    "size = (image.shape[1] * 2, image.shape[0] * 2)\n",
    "\n",
    "# Resize using linear interpolation\n",
    "start_time = time.time()\n",
    "linear = cv.resize(image, size, interpolation=cv.INTER_LINEAR)\n",
    "linear_time = (time.time() -start_time) * 1000\n",
    "\n",
    "# Resize with cubic interpolation\n",
    "start_time = time.time()\n",
    "cubic = cv.resize(image, size, interpolation=cv.INTER_CUBIC)\n",
    "cubic_time = (time.time() -start_time) * 1000\n",
    "\n",
    "# Resize using nearest neighbor interpolation\n",
    "start_time = time.time()\n",
    "nearest = cv.resize(image, size, interpolation=cv.INTER_NEAREST)\n",
    "nearest_time = (time.time() -start_time) * 1000\n",
    "\n",
    "# Display results\n",
    "print(f\"Linear Interpolation\\nTime: {linear_time:.15f} ns\")\n",
    "\n",
    "print(f\"Cubic Interpolation\\nTime: {cubic_time:.15f} ns\")\n",
    "\n",
    "print(f\"Nearest Neighbor\\nTime: {linear_time:.15f} ns\")\n",
    "\n",
    "from utils import display_images\n",
    "\n",
    "display_images([image, linear, cubic, nearest], (\"Original\", \"Linear Interpolation\",\n",
    "                                                  \"Cubic Interpolation\", \"Nearest Neighbor\"))\n",
    "\n",
    "# The result.jfif placed in the directory shows one of the result of Question 4.\n",
    "'''\n",
    "Execution time:\n",
    " Linear Interpolation - Faster than cubic but slower than nearest neighbor.\n",
    " Cubic Interpolation - Slowest due to the complexity of calculations.\n",
    " Nearest Neighbor Interpolation - Fastest in the three techniques.\n",
    "\n",
    "Quality of the Images:\n",
    " Linear Interpolation - Reasonably smooth images, decent quality.\n",
    " Cubic Interpolation - Smoothest and highest-quality.\n",
    " Nearest Neighbor Interpolation - Less smooth images.\n",
    "'''"
   ]
  }
 ],
 "metadata": {
  "kernelspec": {
   "display_name": "Python 3 (ipykernel)",
   "language": "python",
   "name": "python3"
  },
  "language_info": {
   "codemirror_mode": {
    "name": "ipython",
    "version": 3
   },
   "file_extension": ".py",
   "mimetype": "text/x-python",
   "name": "python",
   "nbconvert_exporter": "python",
   "pygments_lexer": "ipython3",
   "version": "3.10.9"
  }
 },
 "nbformat": 4,
 "nbformat_minor": 5
}
